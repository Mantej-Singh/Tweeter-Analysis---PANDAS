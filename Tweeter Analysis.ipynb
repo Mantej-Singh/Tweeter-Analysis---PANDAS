{
 "cells": [
  {
   "cell_type": "code",
   "execution_count": 84,
   "metadata": {
    "collapsed": true
   },
   "outputs": [],
   "source": [
    "import pandas as pd\n",
    "import string\n",
    "import re"
   ]
  },
  {
   "cell_type": "code",
   "execution_count": 113,
   "metadata": {
    "collapsed": false
   },
   "outputs": [],
   "source": [
    "tweet_df = pd.read_csv('tweet_activity_metrics.csv',encoding='ISO-8859-1')"
   ]
  },
  {
   "cell_type": "code",
   "execution_count": 114,
   "metadata": {
    "collapsed": false
   },
   "outputs": [
    {
     "data": {
      "text/html": [
       "<div>\n",
       "<table border=\"1\" class=\"dataframe\">\n",
       "  <thead>\n",
       "    <tr style=\"text-align: right;\">\n",
       "      <th></th>\n",
       "      <th>Tweet id</th>\n",
       "      <th>Tweet permalink</th>\n",
       "      <th>Tweet text</th>\n",
       "      <th>time</th>\n",
       "      <th>impressions</th>\n",
       "      <th>engagements</th>\n",
       "      <th>engagement rate</th>\n",
       "      <th>retweets</th>\n",
       "      <th>replies</th>\n",
       "      <th>favorites</th>\n",
       "      <th>user profile clicks</th>\n",
       "      <th>url clicks</th>\n",
       "      <th>hashtag clicks</th>\n",
       "    </tr>\n",
       "  </thead>\n",
       "  <tbody>\n",
       "    <tr>\n",
       "      <th>0</th>\n",
       "      <td>6.490000e+17</td>\n",
       "      <td>https://twitter.com/USCTrials/status/649293177...</td>\n",
       "      <td>Diagnosed with #KidneyCancer? Leading research...</td>\n",
       "      <td>01-29-2016 0:00</td>\n",
       "      <td>424</td>\n",
       "      <td>3</td>\n",
       "      <td>0.007075</td>\n",
       "      <td>12</td>\n",
       "      <td>0</td>\n",
       "      <td>2</td>\n",
       "      <td>0</td>\n",
       "      <td>1</td>\n",
       "      <td>0.0</td>\n",
       "    </tr>\n",
       "    <tr>\n",
       "      <th>1</th>\n",
       "      <td>6.490000e+17</td>\n",
       "      <td>https://twitter.com/USCTrials/status/649064976...</td>\n",
       "      <td>This clinical research study for #GynCSM is no...</td>\n",
       "      <td>01-30-2016 0:00</td>\n",
       "      <td>411</td>\n",
       "      <td>8</td>\n",
       "      <td>0.019465</td>\n",
       "      <td>3</td>\n",
       "      <td>0</td>\n",
       "      <td>1</td>\n",
       "      <td>1</td>\n",
       "      <td>4</td>\n",
       "      <td>0.0</td>\n",
       "    </tr>\n",
       "    <tr>\n",
       "      <th>2</th>\n",
       "      <td>6.490000e+17</td>\n",
       "      <td>https://twitter.com/USCTrials/status/648875195...</td>\n",
       "      <td>Looking to test a medical device? Partner with...</td>\n",
       "      <td>04-14-2016 0:00</td>\n",
       "      <td>548</td>\n",
       "      <td>8</td>\n",
       "      <td>0.014599</td>\n",
       "      <td>3</td>\n",
       "      <td>0</td>\n",
       "      <td>2</td>\n",
       "      <td>3</td>\n",
       "      <td>1</td>\n",
       "      <td>0.0</td>\n",
       "    </tr>\n",
       "    <tr>\n",
       "      <th>3</th>\n",
       "      <td>6.540000e+17</td>\n",
       "      <td>&lt;a href=\"http://twitter.com\" rel=\"nofollow\"&gt;Tw...</td>\n",
       "      <td>GLOBAL #STATISTICS UPDATE\\r(http://t.co/OsqHqo...</td>\n",
       "      <td>01-21-2016 0:00</td>\n",
       "      <td>548</td>\n",
       "      <td>23</td>\n",
       "      <td>0.000000</td>\n",
       "      <td>223</td>\n",
       "      <td>2</td>\n",
       "      <td>2</td>\n",
       "      <td>3</td>\n",
       "      <td>12</td>\n",
       "      <td>NaN</td>\n",
       "    </tr>\n",
       "    <tr>\n",
       "      <th>4</th>\n",
       "      <td>6.540000e+17</td>\n",
       "      <td>&lt;a href=\"http://twitter.com/download/android\" ...</td>\n",
       "      <td>RT @rugbyworldcup: Huge thank you LEEDS. Perfe...</td>\n",
       "      <td>01-06-2016 0:00</td>\n",
       "      <td>1769</td>\n",
       "      <td>42</td>\n",
       "      <td>2.000000</td>\n",
       "      <td>413</td>\n",
       "      <td>0</td>\n",
       "      <td>8</td>\n",
       "      <td>2</td>\n",
       "      <td>14</td>\n",
       "      <td>NaN</td>\n",
       "    </tr>\n",
       "  </tbody>\n",
       "</table>\n",
       "</div>"
      ],
      "text/plain": [
       "       Tweet id                                    Tweet permalink  \\\n",
       "0  6.490000e+17  https://twitter.com/USCTrials/status/649293177...   \n",
       "1  6.490000e+17  https://twitter.com/USCTrials/status/649064976...   \n",
       "2  6.490000e+17  https://twitter.com/USCTrials/status/648875195...   \n",
       "3  6.540000e+17  <a href=\"http://twitter.com\" rel=\"nofollow\">Tw...   \n",
       "4  6.540000e+17  <a href=\"http://twitter.com/download/android\" ...   \n",
       "\n",
       "                                          Tweet text             time  \\\n",
       "0  Diagnosed with #KidneyCancer? Leading research...  01-29-2016 0:00   \n",
       "1  This clinical research study for #GynCSM is no...  01-30-2016 0:00   \n",
       "2  Looking to test a medical device? Partner with...  04-14-2016 0:00   \n",
       "3  GLOBAL #STATISTICS UPDATE\\r(http://t.co/OsqHqo...  01-21-2016 0:00   \n",
       "4  RT @rugbyworldcup: Huge thank you LEEDS. Perfe...  01-06-2016 0:00   \n",
       "\n",
       "   impressions  engagements  engagement rate  retweets  replies  favorites  \\\n",
       "0          424            3         0.007075        12        0          2   \n",
       "1          411            8         0.019465         3        0          1   \n",
       "2          548            8         0.014599         3        0          2   \n",
       "3          548           23         0.000000       223        2          2   \n",
       "4         1769           42         2.000000       413        0          8   \n",
       "\n",
       "   user profile clicks  url clicks  hashtag clicks  \n",
       "0                    0           1             0.0  \n",
       "1                    1           4             0.0  \n",
       "2                    3           1             0.0  \n",
       "3                    3          12             NaN  \n",
       "4                    2          14             NaN  "
      ]
     },
     "execution_count": 114,
     "metadata": {},
     "output_type": "execute_result"
    }
   ],
   "source": [
    "tweet_df.head()"
   ]
  },
  {
   "cell_type": "code",
   "execution_count": 115,
   "metadata": {
    "collapsed": false
   },
   "outputs": [
    {
     "name": "stdout",
     "output_type": "stream",
     "text": [
      "Total tweets this period: 103\n"
     ]
    }
   ],
   "source": [
    "# Total tweets\n",
    "print ('Total tweets this period:', len(tweet_df.index))"
   ]
  },
  {
   "cell_type": "code",
   "execution_count": 116,
   "metadata": {
    "collapsed": false
   },
   "outputs": [
    {
     "name": "stdout",
     "output_type": "stream",
     "text": [
      "Mean retweets: 240.6 \n",
      "\n",
      "Top 5 RTed tweets:\n",
      "------------------ \n",
      "\n",
      "RT @TeamYanezUSA: #EduardoYañez @LaloYanezLue es #SantiagoGuzman en #Ladrones @LadronesMovie Ahora en cines #USA @PantelionFilms http://t.c",
      " -> 499\n",
      "Can you recommend anyone for this #BusinessMgmt #job? http://t.co/2wwa6WIAbw #USA #Hiring #CareerArc -> 498\n",
      "Director of Facilities and Operations: Spectrum of Hope, LLC, Houston, TX. http://t.co/YcBuhHqtEw #MBA #jobs #USA -> 486\n",
      "#ultimate http://t.co/tt9w7PDHy0 For Sale: DJI Phantom 2 VERSION 3 RTF UAV",
      " http://t.co/3wL2FsIJjc #usa #drone",
      " http://t.co/pfJgesotEp -> 483\n",
      "This #IT #job might be a great fit for you: Developer - http://t.co/nnnoRsx3y0 #USA #Veterans #Hiring #CareerArc -> 452\n",
      "\n",
      "\n"
     ]
    }
   ],
   "source": [
    "# Retweets\n",
    "tweet_df = tweet_df.sort_values(by='retweets', ascending=False)\n",
    "tweet_df = tweet_df.reset_index(drop=True)\n",
    "print ('Mean retweets:', round(tweet_df['retweets'].mean(),2), '\\n')\n",
    "print ('Top 5 RTed tweets:')\n",
    "print ('------------------', '\\n')\n",
    "for i in range(5):\n",
    "    print (tweet_df['Tweet text'].ix[i], '->', tweet_df['retweets'].ix[i])\n",
    "print ('\\n')"
   ]
  },
  {
   "cell_type": "code",
   "execution_count": 117,
   "metadata": {
    "collapsed": false
   },
   "outputs": [
    {
     "name": "stdout",
     "output_type": "stream",
     "text": [
      "Mean likes: 4.76 \n",
      "\n",
      "Top 5 liked tweets:\n",
      "------------------- \n",
      "\n",
      "#USA HOT DEALS : http://t.co/ZCgPG7FIE0 NEW Electric Mayday Gloss Black Gray Womens Oversize Wrap Sunglasses Msrp",
      " http://t.co/HvUaOWW1rH -> 10\n",
      "Join the TD Bank US team! See our latest #BusinessMgmt #job opening here: http://t.co/pmNl1miSP8 #USA #Hiring #CareerArc -> 10\n",
      "This #IT #job might be a great fit for you: Developer - http://t.co/nnnoRsx3y0 #USA #Veterans #Hiring #CareerArc -> 10\n",
      "#SonHouse ~ 'Pony #Blues' (http://t.co/mOVmVmsPIo) #Chicago #Illinois #Memphis #Tennessee #Tupelo #Mississippi \"#Beadles is my Name.\" #USA -> 10\n",
      "RT @FunFactsNews: Trump Get Ready My Friend... #DonaldTrump #trump #elchapo #MexicanVines #usa #justdoit #doitforthevine #funny http://t.co",
      " -> 10\n"
     ]
    }
   ],
   "source": [
    "# Likes\n",
    "tweet_df = tweet_df.sort_values(by='favorites', ascending=False)\n",
    "tweet_df = tweet_df.reset_index(drop=True)\n",
    "print ('Mean likes:', round(tweet_df['favorites'].mean(),2), '\\n')\n",
    "print ('Top 5 liked tweets:')\n",
    "print ('-------------------', '\\n')\n",
    "for i in range(5):\n",
    "    print (tweet_df['Tweet text'].ix[i], '->', tweet_df['favorites'].ix[i])\n"
   ]
  },
  {
   "cell_type": "code",
   "execution_count": 118,
   "metadata": {
    "collapsed": false
   },
   "outputs": [
    {
     "name": "stdout",
     "output_type": "stream",
     "text": [
      "Mean impressions: 2704.27 \n",
      "\n",
      "Top 5 tweets with most impressions:\n",
      "----------------------------------- \n",
      "\n",
      "When you come too understand the voices of musical instruments, your entire world will be changed &amp; you'll have a better appreciation. #USA -> 4989\n",
      "#usa #AOU #BigBillionDaysTomorrow #IsraelKillsThekids https://t.co/tjqMFFaixo -> 4915\n",
      "Director of Facilities and Operations: Spectrum of Hope, LLC, Houston, TX. http://t.co/YcBuhHqtEw #MBA #jobs #USA -> 4913\n",
      "#MyGovHillary #HillaryClinton to want Strong Families #USA in #California Shandon - http://t.co/uHziNui02j http://t.co/mJNMKcpSas -> 4900\n",
      "We're #hiring! Read about our latest #job opening here: OTR Truck Driving Job - Home Bi-Weekly -... - http://t.co/cxuBxSiHFk #USA #Veterans -> 4882\n"
     ]
    }
   ],
   "source": [
    "# Impressions\n",
    "tweet_df = tweet_df.sort_values(by='impressions', ascending=False)\n",
    "tweet_df = tweet_df.reset_index(drop=True)\n",
    "print ('Mean impressions:', round(tweet_df['impressions'].mean(),2), '\\n')\n",
    "print ('Top 5 tweets with most impressions:')\n",
    "print ('-----------------------------------','\\n')\n",
    "for i in range(5):\n",
    "    print (tweet_df['Tweet text'].ix[i], '->', tweet_df['impressions'].ix[i])"
   ]
  },
  {
   "cell_type": "code",
   "execution_count": 174,
   "metadata": {
    "collapsed": true
   },
   "outputs": [],
   "source": [
    "# Hashtags & mentions\n",
    "tag_dict = {}\n",
    "mention_dict = {}\n",
    "#tweet_tokenized=[]\n",
    "tweets=[]"
   ]
  },
  {
   "cell_type": "code",
   "execution_count": null,
   "metadata": {
    "collapsed": true
   },
   "outputs": [],
   "source": []
  },
  {
   "cell_type": "code",
   "execution_count": 175,
   "metadata": {
    "collapsed": false
   },
   "outputs": [],
   "source": [
    "for i in range(len(tweet_df.index)):\n",
    "    tweet_text=tweet_df.ix[i]['Tweet text']\n",
    "    tweet=tweet_text.lower()\n",
    "    tweet_tokenized=tweet.split()\n",
    "    tweets.append(tweet)\n",
    "    #print(tweet)"
   ]
  },
  {
   "cell_type": "code",
   "execution_count": 177,
   "metadata": {
    "collapsed": false
   },
   "outputs": [],
   "source": [
    "#tweets\n",
    "    "
   ]
  },
  {
   "cell_type": "code",
   "execution_count": 78,
   "metadata": {
    "collapsed": true
   },
   "outputs": [],
   "source": [
    "freq={}"
   ]
  },
  {
   "cell_type": "code",
   "execution_count": 85,
   "metadata": {
    "collapsed": false
   },
   "outputs": [],
   "source": [
    "#tweet_tokenized"
   ]
  },
  {
   "cell_type": "code",
   "execution_count": 169,
   "metadata": {
    "collapsed": false
   },
   "outputs": [
    {
     "data": {
      "text/plain": [
       "['#gyncsm']"
      ]
     },
     "execution_count": 169,
     "metadata": {},
     "output_type": "execute_result"
    }
   ],
   "source": [
    "s=\"I love #stackoverflow because #people are very #helpful!\"\n",
    "[i  for i in tweet.split() if i.startswith(\"#\") ]"
   ]
  },
  {
   "cell_type": "code",
   "execution_count": 96,
   "metadata": {
    "collapsed": false
   },
   "outputs": [
    {
     "data": {
      "text/plain": [
       "<filter at 0x5c6d0f0>"
      ]
     },
     "execution_count": 96,
     "metadata": {},
     "output_type": "execute_result"
    }
   ],
   "source": [
    "#re.findall(r\"#(\\w+)\", tweet_tokenized)\n",
    "r = re.compile(\".*cat\")\n",
    "newlist = filter(r.match, tweet_tokenized)\n",
    "newlist"
   ]
  },
  {
   "cell_type": "markdown",
   "metadata": {},
   "source": [
    "### Wokring"
   ]
  },
  {
   "cell_type": "code",
   "execution_count": 202,
   "metadata": {
    "collapsed": false
   },
   "outputs": [
    {
     "data": {
      "text/plain": [
       "['#usa', '#usa', '#aou']"
      ]
     },
     "execution_count": 202,
     "metadata": {},
     "output_type": "execute_result"
    }
   ],
   "source": [
    "\n",
    "tweet_string = ' '.join(str(e) for e in tweets)\n",
    "#tweet_string\n",
    "all_hasttags=[i  for i in tweet_string.split() if i.startswith(\"#\") ]\n",
    "all_hasttags[:3]"
   ]
  },
  {
   "cell_type": "code",
   "execution_count": 141,
   "metadata": {
    "collapsed": false
   },
   "outputs": [
    {
     "data": {
      "text/plain": [
       "'string With Punctuation'"
      ]
     },
     "execution_count": 141,
     "metadata": {},
     "output_type": "execute_result"
    }
   ],
   "source": [
    "s = \"string [With] [Punctuation?\" # Sample string \n",
    "translator = str.maketrans(\"\",\"\", \"?,[,]\")\n",
    "out = s.translate(translator)\n",
    "out"
   ]
  },
  {
   "cell_type": "code",
   "execution_count": 181,
   "metadata": {
    "collapsed": false
   },
   "outputs": [],
   "source": [
    "for word in tweets:\n",
    "        # Hashtags - tokenize and build dict of tag counts\n",
    "        if (word[0:1] == '#' and len(word) > 1):\n",
    "            translator = str.maketrans(\"\",\"\", string.punctuation)\n",
    "            key = word.translate(translator)\n",
    "            count=freq.get(word,0)\n",
    "            freq[word]=count + 1\n",
    "            if key in tag_dict:\n",
    "                tag_dict[key] += 1\n",
    "            else:\n",
    "                tag_dict[key] = 1"
   ]
  },
  {
   "cell_type": "code",
   "execution_count": 194,
   "metadata": {
    "collapsed": true
   },
   "outputs": [],
   "source": [
    "hashs={}\n",
    "hash_results = []"
   ]
  },
  {
   "cell_type": "code",
   "execution_count": 203,
   "metadata": {
    "collapsed": true
   },
   "outputs": [],
   "source": [
    "for word in all_hasttags:\n",
    "    count=hashs.get(word,0)\n",
    "    hashs[word]=count + 1"
   ]
  },
  {
   "cell_type": "code",
   "execution_count": 219,
   "metadata": {
    "collapsed": false
   },
   "outputs": [],
   "source": [
    "#hashs\n"
   ]
  },
  {
   "cell_type": "code",
   "execution_count": 220,
   "metadata": {
    "collapsed": false
   },
   "outputs": [],
   "source": [
    "frequency_list = hashs.keys()\n",
    "\n",
    "for words in frequency_list:\n",
    "    tuple = (words, hashs[words])\n",
    "    hash_results.append(tuple)"
   ]
  },
  {
   "cell_type": "code",
   "execution_count": 230,
   "metadata": {
    "collapsed": false
   },
   "outputs": [],
   "source": [
    "byFreq=sorted(hash_results, key=lambda word: word[1], reverse=True)\n",
    "#byFreq[:10]"
   ]
  },
  {
   "cell_type": "code",
   "execution_count": 229,
   "metadata": {
    "collapsed": false
   },
   "outputs": [
    {
     "name": "stdout",
     "output_type": "stream",
     "text": [
      "Top 10 hashtags:\n",
      "----------------\n",
      "#usa  ->  188\n",
      "#jobs  ->  26\n",
      "#job  ->  20\n",
      "#hiring  ->  20\n",
      "#mba  ->  16\n",
      "#careerarc  ->  16\n",
      "#soccer  ->  16\n",
      "#mls  ->  16\n",
      "#news  ->  12\n",
      "#autumn  ->  8\n"
     ]
    }
   ],
   "source": [
    "# The 10 most popular tags and counts\n",
    "print ('Top 10 hashtags:')\n",
    "print ('----------------')\n",
    "for (word, freq) in byFreq[:10]:\n",
    "    print (word, ' -> ' ,freq)"
   ]
  },
  {
   "cell_type": "code",
   "execution_count": null,
   "metadata": {
    "collapsed": true
   },
   "outputs": [],
   "source": []
  }
 ],
 "metadata": {
  "kernelspec": {
   "display_name": "Python 3",
   "language": "python",
   "name": "python3"
  },
  "language_info": {
   "codemirror_mode": {
    "name": "ipython",
    "version": 3
   },
   "file_extension": ".py",
   "mimetype": "text/x-python",
   "name": "python",
   "nbconvert_exporter": "python",
   "pygments_lexer": "ipython3",
   "version": "3.5.2"
  }
 },
 "nbformat": 4,
 "nbformat_minor": 1
}
